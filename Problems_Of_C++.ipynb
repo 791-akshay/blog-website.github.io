{
  "nbformat": 4,
  "nbformat_minor": 0,
  "metadata": {
    "colab": {
      "name": "Problems Of C++.ipynb",
      "provenance": [],
      "authorship_tag": "ABX9TyMj4cmPsYTSSEGmFXNtO497",
      "include_colab_link": true
    },
    "kernelspec": {
      "name": "python3",
      "display_name": "Python 3"
    },
    "language_info": {
      "name": "python"
    }
  },
  "cells": [
    {
      "cell_type": "markdown",
      "metadata": {
        "id": "view-in-github",
        "colab_type": "text"
      },
      "source": [
        "<a href=\"https://colab.research.google.com/github/791-akshay/blog-website.github.io/blob/main/Problems_Of_C%2B%2B.ipynb\" target=\"_parent\"><img src=\"https://colab.research.google.com/assets/colab-badge.svg\" alt=\"Open In Colab\"/></a>"
      ]
    },
    {
      "cell_type": "markdown",
      "metadata": {
        "id": "tXlFJR2N9QHD"
      },
      "source": [
        "This is used for write the file in C++ formate<br>\n",
        "\n",
        "<b>%%writefile main.cpp</b>\n",
        "\n",
        "for run the C++ code use this<br>\n",
        "\n",
        "<b>%%script bash<br>\n",
        "g++ main.cpp -std=c++11<br>\n",
        "./a.out</b>\n"
      ]
    },
    {
      "cell_type": "markdown",
      "metadata": {
        "id": "VxWxOBZeBZGn"
      },
      "source": [
        "# Print * as an rectangle pattern"
      ]
    },
    {
      "cell_type": "code",
      "metadata": {
        "id": "YD-qoLmT93MM"
      },
      "source": [
        "#include<iostream>\n",
        "using namespace std;\n",
        "\n",
        "int main()\n",
        "{\n",
        "    int i,j;\n",
        "    for(i=1;i<=5;i++)\n",
        "    {\n",
        "        for(j=1;j<5;j++)\n",
        "        {\n",
        "            cout<<\"* \";\n",
        "        }\n",
        "        cout<<endl;\n",
        "    }\n",
        "    return 0;\n",
        "}\n",
        "\n",
        "Output:-\n",
        "* * * * \n",
        "* * * * \n",
        "* * * * \n",
        "* * * * \n",
        "* * * *"
      ],
      "execution_count": null,
      "outputs": []
    },
    {
      "cell_type": "markdown",
      "metadata": {
        "id": "EDtPhqQ2FjFQ"
      },
      "source": [
        "# Print hollow * rectangle\n",
        "For this in hollow rectangle there is in first line and last line contain all *\n",
        "and in middle of that there is in only first position and last position will be * \n",
        "supposed we have 4 row and 5 column\n",
        "like this =><br>* * * * *<br>* &nbsp;&nbsp;&nbsp;&nbsp;&nbsp;&nbsp;&nbsp; *<br>* &nbsp;&nbsp;&nbsp;&nbsp;&nbsp;&nbsp;&nbsp; *<br>* * * * *\n",
        " \n"
      ]
    },
    {
      "cell_type": "code",
      "metadata": {
        "colab": {
          "base_uri": "https://localhost:8080/"
        },
        "id": "I3GQLvj1BlG3",
        "outputId": "ec644d0a-fedd-426b-9343-a80750164701"
      },
      "source": [
        "#include<iostream>\n",
        "using namespace std;\n",
        "\n",
        "int main()\n",
        "{\n",
        "    int row=5,col=4,i,j;\n",
        "    for(i=1;i<=row;i++)\n",
        "    {\n",
        "        for(j=1;j<=col;j++)\n",
        "        {\n",
        "            if(i==1 || i==row)\n",
        "            {\n",
        "                cout<<\" * \";\n",
        "            }\n",
        "            else if(j==1 || j==col)\n",
        "            {\n",
        "                cout<<\" * \";\n",
        "            }\n",
        "            else\n",
        "            {\n",
        "                cout<<\"   \";\n",
        "            }\n",
        "            \n",
        "        }\n",
        "        cout<<endl;\n",
        "    }\n",
        "}\n",
        "Output:-\n",
        "\n",
        " *  *  *  * \n",
        " *        * \n",
        " *        * \n",
        " *        * \n",
        " *  *  *  * "
      ],
      "execution_count": 79,
      "outputs": [
        {
          "output_type": "stream",
          "text": [
            "Overwriting main.cpp\n"
          ],
          "name": "stdout"
        }
      ]
    },
    {
      "cell_type": "markdown",
      "metadata": {
        "id": "dDz1gnu7M7yg"
      },
      "source": [
        "# Reversed order *"
      ]
    },
    {
      "cell_type": "code",
      "metadata": {
        "colab": {
          "base_uri": "https://localhost:8080/"
        },
        "id": "2TnbAm1hK83q",
        "outputId": "91b88efd-6f56-4e8c-d9a3-44f4c76a499c"
      },
      "source": [
        "#include<iostream>\n",
        "using namespace std;\n",
        "\n",
        "int main()\n",
        "{\n",
        "    int n=5,i,j;\n",
        "    for(i=n;i>=1;i--)\n",
        "    {\n",
        "        for(j=1;j<=i;j++)\n",
        "        {\n",
        "            cout<<\"*\";\n",
        "        }\n",
        "        cout<<endl;\n",
        "    }\n",
        "}\n",
        "\n",
        "Output:-\n",
        "*****\n",
        "****\n",
        "***\n",
        "**\n",
        "*"
      ],
      "execution_count": 105,
      "outputs": [
        {
          "output_type": "stream",
          "text": [
            "Overwriting main.cpp\n"
          ],
          "name": "stdout"
        }
      ]
    },
    {
      "cell_type": "markdown",
      "metadata": {
        "id": "i2SQZg2GOUrz"
      },
      "source": [
        "# Another Reversed order *\n",
        "\n",
        "In this reversed order * print we have to print n rows in reversed order * then in this pattern in last row contain n star and 0 space in second last row conatain n-1 star and 1 space in third last row contain n-2 row and 2 space like this in the first row contain n-1 space and 1 star like this..."
      ]
    },
    {
      "cell_type": "code",
      "metadata": {
        "colab": {
          "base_uri": "https://localhost:8080/"
        },
        "id": "xUbVkzacNFx7",
        "outputId": "330901ea-47fe-453a-e9ff-a76a6c8a17e0"
      },
      "source": [
        "%%writefile main.cpp\n",
        "\n",
        "#include<iostream>\n",
        "using namespace std;\n",
        "\n",
        "int main()\n",
        "{\n",
        "    int space,star,n=5,row;\n",
        "    for(row=1;row<=n;row++)\n",
        "    {\n",
        "        for(space=1;space<=n-row;space++)\n",
        "        {\n",
        "            cout<<\" \";\n",
        "        }\n",
        "        for(star=1;star<=row;star++)\n",
        "        {\n",
        "            cout<<\"*\";\n",
        "        }\n",
        "        cout<<endl;\n",
        "    }\n",
        "}\n",
        "\n",
        "Output:-\n",
        "    *\n",
        "   **\n",
        "  ***\n",
        " ****\n",
        "*****"
      ],
      "execution_count": 114,
      "outputs": [
        {
          "output_type": "stream",
          "text": [
            "Overwriting main.cpp\n"
          ],
          "name": "stdout"
        }
      ]
    },
    {
      "cell_type": "code",
      "metadata": {
        "colab": {
          "base_uri": "https://localhost:8080/"
        },
        "id": "nWTRvU5nK3sU",
        "outputId": "18f08568-4e3f-4356-cb49-775a16029d2b"
      },
      "source": [
        "%%script bash\n",
        "g++ main.cpp \n",
        "./a.out"
      ],
      "execution_count": 115,
      "outputs": [
        {
          "output_type": "stream",
          "text": [
            "    *\n",
            "   **\n",
            "  ***\n",
            " ****\n",
            "*****\n"
          ],
          "name": "stdout"
        }
      ]
    }
  ]
}